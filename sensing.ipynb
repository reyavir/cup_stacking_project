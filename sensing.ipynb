{
 "cells": [
  {
   "cell_type": "code",
   "execution_count": 1,
   "id": "599b2094",
   "metadata": {},
   "outputs": [
    {
     "data": {
      "image/png": "[encoded data removed]",
      "text/plain": [
       "<Figure size 432x288 with 2 Axes>"
      ]
     },
     "metadata": {
      "needs_background": "light"
     },
     "output_type": "display_data"
    }
   ],
   "source": [
    "import numpy as np\n",
    "import cv2 as cv\n",
    "import matplotlib.pyplot as plt\n",
    "# file = 'circles.png'\n",
    "file = 'frame0000.jpg'    \n",
    "img_rgb = cv.imread(file)\n",
    "img_gray = cv.imread(file, cv.IMREAD_GRAYSCALE)\n",
    "assert img_rgb is not None, \"file could not be read, check with os.path.exists()\"\n",
    "\n",
    "plt.figure()\n",
    "plt.subplot(1, 3, 1)\n",
    "plt.imshow(img_rgb)\n",
    "plt.title('img_rgb')\n",
    "\n",
    "plt.subplot(1, 3, 3)\n",
    "plt.imshow(img_gray, cmap='gray')\n",
    "plt.title('img gray')\n",
    "\n",
    "img = img_rgb"
   ]
  },
  {
   "cell_type": "code",
   "execution_count": 2,
   "id": "5966f199",
   "metadata": {},
   "outputs": [],
   "source": [
    "\n",
    "# img = cv.medianBlur(img,5)\n",
    "# rows = img.shape[0]\n",
    "# cimg = cv.cvtColor(img,cv.COLOR_RGB2BGRA)\n",
    "# plt.imshow(img)\n",
    "# img = img_gray\n",
    "# # circles = cv.HoughCircles(img,cv.HOUGH_GRADIENT,1,20,\n",
    "# #                             param1=50,param2=30,minRadius=0,maxRadius=0)\n",
    "# circles = cv.HoughCircles(img,cv.HOUGH_GRADIENT,1,rows/8,\n",
    "#                             param1=100,param2=30,minRadius=10,maxRadius=50)\n",
    "\n",
    "# circles = np.uint16(np.around(circles))\n",
    "# for i in circles[0,:]:\n",
    "#     # draw the outer circle\n",
    "#     cv.circle(cimg,(i[0],i[1]),i[2],(0,255,0),2)\n",
    "#     # draw the center of the circle\n",
    "#     cv.circle(cimg,(i[0],i[1]),2,(0,0,255),3)\n",
    "# cv.imshow('detected circles',cimg)\n",
    "# cv.waitKey(0)\n",
    "# cv.destroyAllWindows()"
   ]
  },
  {
   "cell_type": "markdown",
   "metadata": {},
   "source": []
  },
  {
   "cell_type": "code",
   "execution_count": 3,
   "id": "661bfc56",
   "metadata": {},
   "outputs": [],
   "source": [
    "# for i, center in enumerate(circles[0, :]):\n",
    "#     print(f\"Center {i + 1}: ({center[0]}, {center[1]})\\n\")"
   ]
  },
  {
   "cell_type": "code",
   "execution_count": 4,
   "id": "883725f2",
   "metadata": {},
   "outputs": [
    {
     "data": {
      "text/plain": [
       "32"
      ]
     },
     "execution_count": 4,
     "metadata": {},
     "output_type": "execute_result"
    }
   ],
   "source": [
    "# given image, get edges.\n",
    "# use opencv - edge detection\n",
    "# Blur the image for better edge detection\n",
    "median = cv.medianBlur(img_gray,5)\n",
    "img_blur = cv.GaussianBlur(median, (5,5), 0) \n",
    "\n",
    "edges = cv.Canny(image=img_blur, threshold1=100, threshold2=200) \n",
    " \n",
    "cv.imshow('Canny Edge Detection', edges)\n",
    "cv.waitKey(0)"
   ]
  },
  {
   "cell_type": "code",
   "execution_count": null,
   "metadata": {},
   "outputs": [],
   "source": []
  },
  {
   "cell_type": "code",
   "execution_count": null,
   "metadata": {},
   "outputs": [],
   "source": []
  },
  {
   "cell_type": "code",
   "execution_count": 5,
   "metadata": {},
   "outputs": [
    {
     "name": "stdout",
     "output_type": "stream",
     "text": [
      "0.34686142\n"
     ]
    }
   ],
   "source": [
    "# rectangle = cv.imread(\"./rectangle.jpg\", cv.IMREAD_GRAYSCALE)\n",
    "rectangle = edges\n",
    "# find corners of image\n",
    "corners = cv.cornerHarris(rectangle, blockSize=10, ksize=5, k=0.15)\n",
    "\n",
    "threshold = 0.25 * corners.max()\n",
    "corner_coordinates = np.column_stack(np.where(corners > threshold))\n",
    "# print(corner_coordinates)\n",
    "for coord in corner_coordinates:\n",
    "    cv.circle(rectangle, (coord[1], coord[0]), 15, 100, -1)\n",
    "print(corners.max())\n",
    "rectangle[corners > threshold] = [0]\n",
    "cv.imshow('Corner Detection', rectangle)\n",
    "cv.waitKey(0)\n",
    "cv.destroyAllWindows()\n",
    "\n",
    "\n",
    "# get corners in sawyer coordinates (through ar tags or hardcoding)\n",
    "# use bounding box on edges"
   ]
  },
  {
   "cell_type": "code",
   "execution_count": 6,
   "metadata": {},
   "outputs": [
    {
     "name": "stdout",
     "output_type": "stream",
     "text": [
      "[[ 666 1278]\n",
      " [  34  252]\n",
      " [ 530  -53]\n",
      " [1162  972]]\n"
     ]
    }
   ],
   "source": [
    "rectim = edges\n",
    "\n",
    "# x,y,w,h = cv.boundingRect(corner_coordinates)\n",
    "# b_rec = cv.rectangle(rectim,(x,y),(x+w,y+h),(0,255,0),2)\n",
    "# cv.imshow('Bounded Box', b_rec)\n",
    "# cv.waitKey(0)\n",
    "# cv.destroyAllWindows()\n",
    "\n",
    "rect = cv.minAreaRect(corner_coordinates)\n",
    "box = cv.boxPoints(rect)\n",
    "box = np.int0(box)\n",
    "print(box)\n",
    "\n",
    "# cv.drawContours(rectim, [box], 0, (255,255,255), 2)\n",
    "# cv.imshow('Bounding Box', rectim)\n",
    "# cv.waitKey(0)\n",
    "# cv.destroyAllWindows()"
   ]
  },
  {
   "cell_type": "code",
   "execution_count": 10,
   "metadata": {},
   "outputs": [],
   "source": [
    "max_dist = 0\n",
    "max_pts = [None, None]\n",
    "\n",
    "for i in range(len(box)):\n",
    "    for j in range(0, i):\n",
    "        dist = np.sqrt((box[i][0] - box[j][0])**2 + (box[i][1] - box[j][1])**2)\n",
    "        if dist > max_dist:\n",
    "            max_dist = dist\n",
    "            max_pts = [box[i],box[j]]\n",
    "color=255\n",
    "thickness=2\n",
    "# print(max_pts)\n",
    "\n",
    "img = np.zeros(rectim.shape, np.uint8)\n",
    "cv.rectangle(rectim, tuple(max_pts[0]), tuple(max_pts[1]), (255,255,255), 3)\n",
    "cv.imshow('title', rectim)\n",
    "cv.waitKey(0)\n",
    "cv.destroyAllWindows()\n"
   ]
  },
  {
   "cell_type": "code",
   "execution_count": null,
   "metadata": {},
   "outputs": [],
   "source": []
  }
 ],
 "metadata": {
  "kernelspec": {
   "display_name": "Python 3",
   "language": "python",
   "name": "python3"
  },
  "language_info": {
   "codemirror_mode": {
    "name": "ipython",
    "version": 3
   },
   "file_extension": ".py",
   "mimetype": "text/x-python",
   "name": "python",
   "nbconvert_exporter": "python",
   "pygments_lexer": "ipython3",
   "version": "3.8.10"
  }
 },
 "nbformat": 4,
 "nbformat_minor": 5
}
